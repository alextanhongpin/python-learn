{
 "cells": [
  {
   "cell_type": "code",
   "execution_count": 1,
   "id": "b2238f7a-32fb-4f16-b5e9-af03c58f63e4",
   "metadata": {
    "tags": []
   },
   "outputs": [
    {
     "name": "stdout",
     "output_type": "stream",
     "text": [
      "Python 3.11.6\n",
      "Python 3.11.6\n"
     ]
    }
   ],
   "source": [
    "!python3 --version\n",
    "import sys\n",
    "\n",
    "!\"{sys.executable}\" --version"
   ]
  },
  {
   "cell_type": "code",
   "execution_count": null,
   "id": "114e9c63-1157-49dc-b64f-2f84938456da",
   "metadata": {},
   "outputs": [],
   "source": [
    "# https://ipython.readthedocs.io/en/stable/install/kernel_install.html\n",
    "!python3 -m pip install ipykernel\n",
    "!python3 -m ipykernel install --user"
   ]
  }
 ],
 "metadata": {
  "kernelspec": {
   "display_name": "Python 3 (ipykernel)",
   "language": "python",
   "name": "python3"
  },
  "language_info": {
   "codemirror_mode": {
    "name": "ipython",
    "version": 3
   },
   "file_extension": ".py",
   "mimetype": "text/x-python",
   "name": "python",
   "nbconvert_exporter": "python",
   "pygments_lexer": "ipython3",
   "version": "3.11.6"
  },
  "widgets": {
   "application/vnd.jupyter.widget-state+json": {
    "state": {},
    "version_major": 2,
    "version_minor": 0
   }
  }
 },
 "nbformat": 4,
 "nbformat_minor": 5
}
