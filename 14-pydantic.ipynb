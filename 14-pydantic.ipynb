{
 "cells": [
  {
   "cell_type": "code",
   "execution_count": 3,
   "id": "ffb0763f-907f-48b6-a8b0-bbbc0e569c88",
   "metadata": {
    "tags": []
   },
   "outputs": [
    {
     "name": "stdout",
     "output_type": "stream",
     "text": [
      "2.5.2\n"
     ]
    }
   ],
   "source": [
    "!pip3 install -qqq pydantic==2.5.2\n",
    "!python3 -c 'import pydantic; print(pydantic.__version__)'\n",
    "\n",
    "import sys\n",
    "\n",
    "!{sys.executable} -m pip install -qqq pydantic==2.5.2"
   ]
  },
  {
   "cell_type": "code",
   "execution_count": 5,
   "id": "83978d8d-d943-4473-a20b-721b98266098",
   "metadata": {
    "tags": []
   },
   "outputs": [
    {
     "data": {
      "text/plain": [
       "'2.5.2'"
      ]
     },
     "execution_count": 5,
     "metadata": {},
     "output_type": "execute_result"
    }
   ],
   "source": [
    "import pydantic\n",
    "\n",
    "pydantic.__version__"
   ]
  },
  {
   "cell_type": "code",
   "execution_count": 6,
   "id": "8d3008e6-3592-4a21-8072-06f5ef734b41",
   "metadata": {
    "tags": []
   },
   "outputs": [],
   "source": [
    "# !python3 -m -qqq pip install nb_mypy\n",
    "# %load_ext nb_mypy # Setup mypy extension for type checking."
   ]
  },
  {
   "cell_type": "code",
   "execution_count": 25,
   "id": "31869c0b-1b2b-4ff4-a47d-fb50904bf1e9",
   "metadata": {
    "tags": []
   },
   "outputs": [],
   "source": [
    "from datetime import datetime\n",
    "\n",
    "from pydantic import BaseModel\n",
    "\n",
    "\n",
    "class Delivery(BaseModel):\n",
    "    timestamp: datetime\n",
    "    dimensions: tuple[int, int]"
   ]
  },
  {
   "cell_type": "code",
   "execution_count": 8,
   "id": "3b67816a-6e36-4d56-81b0-e495980e28d0",
   "metadata": {
    "tags": []
   },
   "outputs": [],
   "source": [
    "from datetime import datetime\n",
    "from typing import Tuple\n",
    "\n",
    "from pydantic import BaseModel\n",
    "\n",
    "\n",
    "class Delivery(BaseModel):\n",
    "    timestamp: datetime\n",
    "    dimensions: Tuple[int, int]"
   ]
  },
  {
   "cell_type": "code",
   "execution_count": 9,
   "id": "60fd2cb2-750c-490f-ad92-a97d15119669",
   "metadata": {},
   "outputs": [
    {
     "name": "stdout",
     "output_type": "stream",
     "text": [
      "datetime.datetime(2023, 1, 2, 3, 4, 5, tzinfo=TzInfo(UTC))\n"
     ]
    }
   ],
   "source": [
    "m = Delivery(timestamp=\"2023-01-02T03:04:05Z\", dimensions=[\"10\", \"20\"])\n",
    "print(repr(m.timestamp))"
   ]
  },
  {
   "cell_type": "code",
   "execution_count": 10,
   "id": "ba623990-39e8-465d-92da-2ed8508d7667",
   "metadata": {
    "tags": []
   },
   "outputs": [
    {
     "name": "stdout",
     "output_type": "stream",
     "text": [
      "(10, 20)\n"
     ]
    }
   ],
   "source": [
    "print(m.dimensions)"
   ]
  },
  {
   "cell_type": "markdown",
   "id": "a5a94391-7ba7-4a51-ab30-328737b059c9",
   "metadata": {},
   "source": [
    "## Pydantic Examples"
   ]
  },
  {
   "cell_type": "code",
   "execution_count": 27,
   "id": "cd564859-7cf6-4469-bfb3-575e754711ed",
   "metadata": {
    "tags": []
   },
   "outputs": [
    {
     "name": "stdout",
     "output_type": "stream",
     "text": [
      "<class 'int'>\n",
      "datetime.datetime(2019, 6, 1, 12, 22)\n",
      "{'wine': 9, 'cheese': 7, 'cabbage': 1}\n"
     ]
    }
   ],
   "source": [
    "from datetime import datetime\n",
    "\n",
    "from pydantic import BaseModel, PositiveInt\n",
    "\n",
    "\n",
    "class User(BaseModel):\n",
    "    id: int\n",
    "    name: str = \"John Doe\"\n",
    "    signup_ts: datetime | None\n",
    "    tastes: dict[str, PositiveInt]\n",
    "\n",
    "\n",
    "external_data = {\n",
    "    \"id\": \"123\",\n",
    "    \"signup_ts\": \"2019-06-01 12:22\",  # ISO8601 str will be converted to datetime\n",
    "    \"tastes\": {\"wine\": 9, b\"cheese\": 7, \"cabbage\": \"1\"},\n",
    "}\n",
    "\n",
    "user = User(**external_data)\n",
    "print(type(user.id))\n",
    "print(repr(user.signup_ts))\n",
    "print(user.tastes)"
   ]
  },
  {
   "cell_type": "code",
   "execution_count": 12,
   "id": "05fc7131-31a9-4b12-bd24-481bcba97380",
   "metadata": {
    "tags": []
   },
   "outputs": [
    {
     "name": "stdout",
     "output_type": "stream",
     "text": [
      "[{'type': 'int_parsing', 'loc': ('id',), 'msg': 'Input should be a valid integer, unable to parse string as an integer', 'input': 'not a string', 'url': 'https://errors.pydantic.dev/2.5/v/int_parsing'}, {'type': 'missing', 'loc': ('signup_ts',), 'msg': 'Field required', 'input': {'id': 'not a string', 'tastes': {}}, 'url': 'https://errors.pydantic.dev/2.5/v/missing'}]\n"
     ]
    }
   ],
   "source": [
    "from pydantic import ValidationError\n",
    "\n",
    "external_data = {\n",
    "    \"id\": \"not a string\",\n",
    "    \"tastes\": {},\n",
    "}\n",
    "try:\n",
    "    User(**external_data)\n",
    "except ValidationError as e:  # Useful tip: ex-e-as-e\n",
    "    print(e.errors())"
   ]
  },
  {
   "cell_type": "code",
   "execution_count": 16,
   "id": "e5cdff10-164b-47be-b9ec-38d962f9357f",
   "metadata": {
    "tags": []
   },
   "outputs": [
    {
     "data": {
      "text/plain": [
       "{'properties': {'id': {'title': 'Id', 'type': 'integer'},\n",
       "  'name': {'default': 'Jane Doe', 'title': 'Name', 'type': 'string'}},\n",
       " 'required': ['id'],\n",
       " 'title': 'User',\n",
       " 'type': 'object'}"
      ]
     },
     "execution_count": 16,
     "metadata": {},
     "output_type": "execute_result"
    }
   ],
   "source": [
    "import json\n",
    "\n",
    "User.model_json_schema()"
   ]
  },
  {
   "cell_type": "code",
   "execution_count": 17,
   "id": "61303e41-a51e-4123-9cbd-013285adb4cc",
   "metadata": {
    "tags": []
   },
   "outputs": [],
   "source": [
    "from pydantic import BaseModel\n",
    "\n",
    "\n",
    "class User(BaseModel):\n",
    "    id: int\n",
    "    name: str = \"Jane Doe\""
   ]
  },
  {
   "cell_type": "code",
   "execution_count": 18,
   "id": "af1fb55e-a647-4b11-96d2-68685e24c8e0",
   "metadata": {
    "tags": []
   },
   "outputs": [
    {
     "data": {
      "text/plain": [
       "User(id=1, name='Jane Doe')"
      ]
     },
     "execution_count": 18,
     "metadata": {},
     "output_type": "execute_result"
    }
   ],
   "source": [
    "user = User(id=\"1\")\n",
    "user"
   ]
  },
  {
   "cell_type": "code",
   "execution_count": 19,
   "id": "da2c03d2-c632-45f3-abd8-02fd7913b24a",
   "metadata": {
    "tags": []
   },
   "outputs": [],
   "source": [
    "from datetime import datetime, timezone\n",
    "\n",
    "from pydantic import BaseModel, field_validator\n",
    "\n",
    "\n",
    "class Meeting(BaseModel):\n",
    "    when: datetime\n",
    "\n",
    "    @field_validator(\"when\", mode=\"wrap\")\n",
    "    def when_now(cls, input_value, handler):\n",
    "        if input_value == \"now\":\n",
    "            return datetime.now()\n",
    "        when = handler(input_value)\n",
    "        # in this specific application we know tz naive datetimes are in UTC\n",
    "        if when.tzinfo is None:\n",
    "            when = when.replace(tzinfo=timezone.utc)\n",
    "        return when"
   ]
  },
  {
   "cell_type": "code",
   "execution_count": 21,
   "id": "0055465b-e0ed-44f3-a309-00dc6faf04cc",
   "metadata": {
    "tags": []
   },
   "outputs": [
    {
     "name": "stdout",
     "output_type": "stream",
     "text": [
      "when=datetime.datetime(2020, 1, 1, 12, 0, tzinfo=TzInfo(+01:00))\n"
     ]
    }
   ],
   "source": [
    "print(Meeting(when=\"2020-01-01T12:00+01:00\"))"
   ]
  },
  {
   "cell_type": "code",
   "execution_count": 22,
   "id": "f6cfcddb-9076-4457-8f85-cb534a9d6d80",
   "metadata": {},
   "outputs": [
    {
     "name": "stdout",
     "output_type": "stream",
     "text": [
      "when=datetime.datetime(2023, 12, 17, 23, 7, 17, 341624)\n"
     ]
    }
   ],
   "source": [
    "print(Meeting(when=\"now\"))"
   ]
  },
  {
   "cell_type": "code",
   "execution_count": 23,
   "id": "471c0567-920c-4ddf-9c21-c4551852bb81",
   "metadata": {
    "tags": []
   },
   "outputs": [
    {
     "name": "stdout",
     "output_type": "stream",
     "text": [
      "when=datetime.datetime(2020, 1, 1, 12, 0, tzinfo=datetime.timezone.utc)\n"
     ]
    }
   ],
   "source": [
    "print(Meeting(when=\"2020-01-01T12:00\"))"
   ]
  },
  {
   "cell_type": "markdown",
   "id": "88dc9dc9-2ef5-4eaa-b0c2-642b99622d34",
   "metadata": {},
   "source": [
    "## Annotated Validators"
   ]
  },
  {
   "cell_type": "code",
   "execution_count": 32,
   "id": "d0864f74-3ad0-4d58-935f-40a983dcd5f2",
   "metadata": {
    "tags": []
   },
   "outputs": [],
   "source": [
    "from pydantic import BaseModel, ValidationError\n",
    "from pydantic.functional_validators import AfterValidator\n",
    "from typing_extensions import Annotated\n",
    "\n",
    "\n",
    "def check_email(s: str) -> str:\n",
    "    assert \"@\" in s, f\"{s} is not an email\"\n",
    "    return s\n",
    "\n",
    "\n",
    "Email = Annotated[str, AfterValidator(check_email)]\n",
    "\n",
    "\n",
    "class Account(BaseModel):\n",
    "    emails: list[Email]"
   ]
  },
  {
   "cell_type": "code",
   "execution_count": 33,
   "id": "d0b6e5a0-0577-4c10-8d6d-af1a4adb6e8a",
   "metadata": {
    "tags": []
   },
   "outputs": [
    {
     "name": "stdout",
     "output_type": "stream",
     "text": [
      "[{'type': 'assertion_error', 'loc': ('emails', 1), 'msg': 'Assertion failed, jane is not an email', 'input': 'jane', 'ctx': {'error': AssertionError('jane is not an email')}, 'url': 'https://errors.pydantic.dev/2.5/v/assertion_error'}]\n"
     ]
    }
   ],
   "source": [
    "try:\n",
    "    account = Account(emails=[\"john@mail.com\", \"jane\"])\n",
    "except ValidationError as e:\n",
    "    print(e.errors())"
   ]
  },
  {
   "cell_type": "code",
   "execution_count": 34,
   "id": "2fa5adaa-b1e7-42a8-a62c-88d786786750",
   "metadata": {
    "tags": []
   },
   "outputs": [
    {
     "data": {
      "text/plain": [
       "Account(emails=['john@mail.com', 'jane@mail.com'])"
      ]
     },
     "execution_count": 34,
     "metadata": {},
     "output_type": "execute_result"
    }
   ],
   "source": [
    "Account(emails=[\"john@mail.com\", \"jane@mail.com\"])"
   ]
  },
  {
   "cell_type": "code",
   "execution_count": null,
   "id": "97003dee-7e5e-438d-a243-ddaf109c9a00",
   "metadata": {},
   "outputs": [],
   "source": []
  }
 ],
 "metadata": {
  "kernelspec": {
   "display_name": "Python 3 (ipykernel)",
   "language": "python",
   "name": "python3"
  },
  "language_info": {
   "codemirror_mode": {
    "name": "ipython",
    "version": 3
   },
   "file_extension": ".py",
   "mimetype": "text/x-python",
   "name": "python",
   "nbconvert_exporter": "python",
   "pygments_lexer": "ipython3",
   "version": "3.11.6"
  },
  "widgets": {
   "application/vnd.jupyter.widget-state+json": {
    "state": {},
    "version_major": 2,
    "version_minor": 0
   }
  }
 },
 "nbformat": 4,
 "nbformat_minor": 5
}
