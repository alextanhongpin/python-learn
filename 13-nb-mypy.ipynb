{
 "cells": [
  {
   "cell_type": "code",
   "execution_count": 13,
   "id": "3dc160d0-4501-4c27-9b53-2a25dcbac32b",
   "metadata": {
    "tags": []
   },
   "outputs": [
    {
     "name": "stdout",
     "output_type": "stream",
     "text": [
      "/usr/local/opt/python@3.11/bin/python3.11: No module named -qqq\n",
      "The nb_mypy extension is already loaded. To reload it, use:\n",
      "  %reload_ext nb_mypy\n"
     ]
    }
   ],
   "source": [
    "!python3 -m -qqq pip install nb_mypy\n",
    "%load_ext nb_mypy"
   ]
  },
  {
   "cell_type": "code",
   "execution_count": 14,
   "id": "cf0c0679-9d8e-44b0-a2c1-43da8a320e8f",
   "metadata": {
    "tags": []
   },
   "outputs": [
    {
     "name": "stderr",
     "output_type": "stream",
     "text": [
      "<cell>1: error: Incompatible types in assignment (expression has type \"List[object]\", variable has type \"Tuple[int, int]\")\n"
     ]
    }
   ],
   "source": [
    "a: Tuple[int, int] = [1, \"hello\"]"
   ]
  },
  {
   "cell_type": "code",
   "execution_count": 17,
   "id": "cf7b6922-b560-4e52-aeb0-850bfd26e9ed",
   "metadata": {
    "tags": []
   },
   "outputs": [
    {
     "name": "stderr",
     "output_type": "stream",
     "text": [
      "<cell>1: error: Incompatible types in assignment (expression has type \"Tuple[int, str]\", variable has type \"Tuple[int, int]\")\n"
     ]
    }
   ],
   "source": [
    "a: Tuple[int, int] = (1, \"2\")"
   ]
  },
  {
   "cell_type": "code",
   "execution_count": 18,
   "id": "c3a6e895-16f1-40de-8ddf-9305b65d51db",
   "metadata": {
    "tags": []
   },
   "outputs": [],
   "source": [
    "a: Tuple[int, int] = (1, 2)"
   ]
  }
 ],
 "metadata": {
  "kernelspec": {
   "display_name": "Python 3 (ipykernel)",
   "language": "python",
   "name": "python3"
  },
  "language_info": {
   "codemirror_mode": {
    "name": "ipython",
    "version": 3
   },
   "file_extension": ".py",
   "mimetype": "text/x-python",
   "name": "python",
   "nbconvert_exporter": "python",
   "pygments_lexer": "ipython3",
   "version": "3.9.18"
  },
  "widgets": {
   "application/vnd.jupyter.widget-state+json": {
    "state": {},
    "version_major": 2,
    "version_minor": 0
   }
  }
 },
 "nbformat": 4,
 "nbformat_minor": 5
}
